{
 "cells": [
  {
   "cell_type": "code",
   "execution_count": 1,
   "metadata": {},
   "outputs": [
    {
     "name": "stdout",
     "output_type": "stream",
     "text": [
      "Requirement already satisfied: boto3 in /opt/conda/lib/python3.6/site-packages (1.7.62)\n",
      "Requirement already satisfied: jmespath<1.0.0,>=0.7.1 in /opt/conda/lib/python3.6/site-packages (from boto3) (0.9.3)\n",
      "Requirement already satisfied: s3transfer<0.2.0,>=0.1.10 in /opt/conda/lib/python3.6/site-packages (from boto3) (0.1.13)\n",
      "Requirement already satisfied: botocore<1.11.0,>=1.10.62 in /opt/conda/lib/python3.6/site-packages (from boto3) (1.10.62)\n",
      "Requirement already satisfied: docutils>=0.10 in /opt/conda/lib/python3.6/site-packages (from botocore<1.11.0,>=1.10.62->boto3) (0.14)\n",
      "Requirement already satisfied: python-dateutil<3.0.0,>=2.1; python_version >= \"2.7\" in /opt/conda/lib/python3.6/site-packages (from botocore<1.11.0,>=1.10.62->boto3) (2.7.3)\n",
      "Requirement already satisfied: six>=1.5 in /opt/conda/lib/python3.6/site-packages (from python-dateutil<3.0.0,>=2.1; python_version >= \"2.7\"->botocore<1.11.0,>=1.10.62->boto3) (1.11.0)\n"
     ]
    }
   ],
   "source": [
    "!pip install boto3"
   ]
  },
  {
   "cell_type": "code",
   "execution_count": 2,
   "metadata": {},
   "outputs": [],
   "source": [
    "from lib import create_tweet_iterator"
   ]
  },
  {
   "cell_type": "code",
   "execution_count": 3,
   "metadata": {},
   "outputs": [],
   "source": [
    "token = \"826217546009411584-VJYGyRf5XnEebRt5MX0KKZ6FzeAtIGK\"\n",
    "token_secret = \"tTTQNpRmSAa2phiN1tMSXDqGWHerDpVt06vH7umXFONG5\"\n",
    "consumer_key = \"59NUMZ5E2JWZ0UoMuBWbk8n1g\"\n",
    "consumer_secret = \"iTRjmJs5HyMUaNtTXRKtyJACdTzUEo0EpG1Eok63g766uiY0KO\"\n",
    "bounding_box = \"-118.5137323688,34.0001996344,-118.4702449172,34.0331651696\""
   ]
  },
  {
   "cell_type": "code",
   "execution_count": 4,
   "metadata": {},
   "outputs": [],
   "source": [
    "tweet_iterator = create_tweet_iterator(token, token_secret, consumer_key,consumer_secret,bounding_box)"
   ]
  },
  {
   "cell_type": "code",
   "execution_count": 5,
   "metadata": {},
   "outputs": [],
   "source": [
    "tweets = []\n",
    "for _ in range(10):\n",
    "    tweets.append(next(tweet_iterator))"
   ]
  },
  {
   "cell_type": "code",
   "execution_count": 6,
   "metadata": {},
   "outputs": [
    {
     "name": "stdout",
     "output_type": "stream",
     "text": [
      "[{'created_at': 'Tue Jul 24 02:09:55 +0000 2018', 'id': 1021578190056091650, 'id_str': '1021578190056091650', 'text': 'my favorite netflix genre is french-or-german-speaking-teens-getting-lost-in-the-woods', 'source': '<a href=\"http://twitter.com/download/iphone\" rel=\"nofollow\">Twitter for iPhone</a>', 'truncated': False, 'in_reply_to_status_id': None, 'in_reply_to_status_id_str': None, 'in_reply_to_user_id': None, 'in_reply_to_user_id_str': None, 'in_reply_to_screen_name': None, 'user': {'id': 17477622, 'id_str': '17477622', 'name': '🌈leia porgana🌈', 'screen_name': 'nicolecieux', 'location': 'California', 'url': 'http://minusforever.net', 'description': \"i'm with the resistance.\", 'translator_type': 'none', 'protected': False, 'verified': False, 'followers_count': 1256, 'friends_count': 638, 'listed_count': 43, 'favourites_count': 15855, 'statuses_count': 45658, 'created_at': 'Wed Nov 19 02:11:05 +0000 2008', 'utc_offset': None, 'time_zone': None, 'geo_enabled': True, 'lang': 'en', 'contributors_enabled': False, 'is_translator': False, 'profile_background_color': 'FFFFFF', 'profile_background_image_url': 'http://abs.twimg.com/images/themes/theme8/bg.gif', 'profile_background_image_url_https': 'https://abs.twimg.com/images/themes/theme8/bg.gif', 'profile_background_tile': True, 'profile_link_color': '9266CC', 'profile_sidebar_border_color': 'FFFFFF', 'profile_sidebar_fill_color': 'FFFFFF', 'profile_text_color': '333333', 'profile_use_background_image': True, 'profile_image_url': 'http://pbs.twimg.com/profile_images/1014731379240660992/ni40T3uT_normal.jpg', 'profile_image_url_https': 'https://pbs.twimg.com/profile_images/1014731379240660992/ni40T3uT_normal.jpg', 'profile_banner_url': 'https://pbs.twimg.com/profile_banners/17477622/1439609122', 'default_profile': False, 'default_profile_image': False, 'following': None, 'follow_request_sent': None, 'notifications': None}, 'geo': None, 'coordinates': None, 'place': {'id': '3b77caf94bfc81fe', 'url': 'https://api.twitter.com/1.1/geo/id/3b77caf94bfc81fe.json', 'place_type': 'city', 'name': 'Los Angeles', 'full_name': 'Los Angeles, CA', 'country_code': 'US', 'country': 'United States', 'bounding_box': {'type': 'Polygon', 'coordinates': [[[-118.668404, 33.704538], [-118.668404, 34.337041], [-118.155409, 34.337041], [-118.155409, 33.704538]]]}, 'attributes': {}}, 'contributors': None, 'is_quote_status': False, 'quote_count': 0, 'reply_count': 0, 'retweet_count': 0, 'favorite_count': 0, 'entities': {'hashtags': [], 'urls': [], 'user_mentions': [], 'symbols': []}, 'favorited': False, 'retweeted': False, 'filter_level': 'low', 'lang': 'en', 'timestamp_ms': '1532398195171'}, {'created_at': 'Tue Jul 24 02:09:55 +0000 2018', 'id': 1021578191876440064, 'id_str': '1021578191876440064', 'text': '@jamescharles Bait a lot of str8 guys on Instagram? Hahahahaha', 'display_text_range': [14, 62], 'source': '<a href=\"http://twitter.com/download/iphone\" rel=\"nofollow\">Twitter for iPhone</a>', 'truncated': False, 'in_reply_to_status_id': 1021577050681827328, 'in_reply_to_status_id_str': '1021577050681827328', 'in_reply_to_user_id': 1117786405, 'in_reply_to_user_id_str': '1117786405', 'in_reply_to_screen_name': 'jamescharles', 'user': {'id': 232988220, 'id_str': '232988220', 'name': 'Kylie Gore', 'screen_name': 'KylieGore01', 'location': 'LA ', 'url': 'http://youtube.com/c/KylieGore', 'description': '2 0 1 8', 'translator_type': 'none', 'protected': False, 'verified': False, 'followers_count': 1023, 'friends_count': 129, 'listed_count': 4, 'favourites_count': 8055, 'statuses_count': 9186, 'created_at': 'Sat Jan 01 23:42:41 +0000 2011', 'utc_offset': None, 'time_zone': None, 'geo_enabled': True, 'lang': 'en', 'contributors_enabled': False, 'is_translator': False, 'profile_background_color': '3DAFE0', 'profile_background_image_url': 'http://abs.twimg.com/images/themes/theme1/bg.png', 'profile_background_image_url_https': 'https://abs.twimg.com/images/themes/theme1/bg.png', 'profile_background_tile': True, 'profile_link_color': '036B91', 'profile_sidebar_border_color': 'FFFFFF', 'profile_sidebar_fill_color': '00B3FF', 'profile_text_color': 'FF0000', 'profile_use_background_image': True, 'profile_image_url': 'http://pbs.twimg.com/profile_images/950457622511026176/ORhjjS65_normal.jpg', 'profile_image_url_https': 'https://pbs.twimg.com/profile_images/950457622511026176/ORhjjS65_normal.jpg', 'profile_banner_url': 'https://pbs.twimg.com/profile_banners/232988220/1518391935', 'default_profile': False, 'default_profile_image': False, 'following': None, 'follow_request_sent': None, 'notifications': None}, 'geo': None, 'coordinates': None, 'place': {'id': '3b77caf94bfc81fe', 'url': 'https://api.twitter.com/1.1/geo/id/3b77caf94bfc81fe.json', 'place_type': 'city', 'name': 'Los Angeles', 'full_name': 'Los Angeles, CA', 'country_code': 'US', 'country': 'United States', 'bounding_box': {'type': 'Polygon', 'coordinates': [[[-118.668404, 33.704538], [-118.668404, 34.337041], [-118.155409, 34.337041], [-118.155409, 33.704538]]]}, 'attributes': {}}, 'contributors': None, 'is_quote_status': False, 'quote_count': 0, 'reply_count': 0, 'retweet_count': 0, 'favorite_count': 0, 'entities': {'hashtags': [], 'urls': [], 'user_mentions': [{'screen_name': 'jamescharles', 'name': 'James Charles', 'id': 1117786405, 'id_str': '1117786405', 'indices': [0, 13]}], 'symbols': []}, 'favorited': False, 'retweeted': False, 'filter_level': 'low', 'lang': 'en', 'timestamp_ms': '1532398195605'}, {'created_at': 'Tue Jul 24 02:09:55 +0000 2018', 'id': 1021578192534925312, 'id_str': '1021578192534925312', 'text': 'been feeling this https://t.co/FroDNUFg5X', 'display_text_range': [0, 17], 'source': '<a href=\"http://twitter.com/download/iphone\" rel=\"nofollow\">Twitter for iPhone</a>', 'truncated': False, 'in_reply_to_status_id': None, 'in_reply_to_status_id_str': None, 'in_reply_to_user_id': None, 'in_reply_to_user_id_str': None, 'in_reply_to_screen_name': None, 'user': {'id': 153232389, 'id_str': '153232389', 'name': '𝕕𝕖𝕟', 'screen_name': 'brandengildore', 'location': 'LA', 'url': 'http://imdb.com/name/nm7074027/', 'description': 'fucked up kid with mommy issues sc:imdenden【=◈︿◈=】', 'translator_type': 'none', 'protected': False, 'verified': False, 'followers_count': 559, 'friends_count': 547, 'listed_count': 10, 'favourites_count': 15737, 'statuses_count': 30992, 'created_at': 'Tue Jun 08 01:07:24 +0000 2010', 'utc_offset': None, 'time_zone': None, 'geo_enabled': True, 'lang': 'en', 'contributors_enabled': False, 'is_translator': False, 'profile_background_color': '000000', 'profile_background_image_url': 'http://abs.twimg.com/images/themes/theme1/bg.png', 'profile_background_image_url_https': 'https://abs.twimg.com/images/themes/theme1/bg.png', 'profile_background_tile': False, 'profile_link_color': '000000', 'profile_sidebar_border_color': '000000', 'profile_sidebar_fill_color': '000000', 'profile_text_color': '000000', 'profile_use_background_image': False, 'profile_image_url': 'http://pbs.twimg.com/profile_images/1011801572345434112/mjimdoaq_normal.jpg', 'profile_image_url_https': 'https://pbs.twimg.com/profile_images/1011801572345434112/mjimdoaq_normal.jpg', 'profile_banner_url': 'https://pbs.twimg.com/profile_banners/153232389/1531470690', 'default_profile': False, 'default_profile_image': False, 'following': None, 'follow_request_sent': None, 'notifications': None}, 'geo': None, 'coordinates': None, 'place': {'id': '3b77caf94bfc81fe', 'url': 'https://api.twitter.com/1.1/geo/id/3b77caf94bfc81fe.json', 'place_type': 'city', 'name': 'Los Angeles', 'full_name': 'Los Angeles, CA', 'country_code': 'US', 'country': 'United States', 'bounding_box': {'type': 'Polygon', 'coordinates': [[[-118.668404, 33.704538], [-118.668404, 34.337041], [-118.155409, 34.337041], [-118.155409, 33.704538]]]}, 'attributes': {}}, 'contributors': None, 'quoted_status_id': 1021025998576513024, 'quoted_status_id_str': '1021025998576513024', 'quoted_status': {'created_at': 'Sun Jul 22 13:35:42 +0000 2018', 'id': 1021025998576513024, 'id_str': '1021025998576513024', 'text': 'life pro tip: if you feel like you have to be a watered down or less intense version of yourself when being around… https://t.co/KNJmsLfnU0', 'source': '<a href=\"http://twitter.com/download/iphone\" rel=\"nofollow\">Twitter for iPhone</a>', 'truncated': True, 'in_reply_to_status_id': None, 'in_reply_to_status_id_str': None, 'in_reply_to_user_id': None, 'in_reply_to_user_id_str': None, 'in_reply_to_screen_name': None, 'user': {'id': 918110121674313728, 'id_str': '918110121674313728', 'name': 'mar ❁', 'screen_name': 'ahimsax', 'location': 'Saturn, Outer Space', 'url': None, 'description': 'Plant based. Environmentalist. Saving our bees. NASA Certified 👽\\U0001f6f8', 'translator_type': 'none', 'protected': False, 'verified': False, 'followers_count': 5530, 'friends_count': 892, 'listed_count': 131, 'favourites_count': 310, 'statuses_count': 12773, 'created_at': 'Wed Oct 11 13:44:45 +0000 2017', 'utc_offset': None, 'time_zone': None, 'geo_enabled': True, 'lang': 'en', 'contributors_enabled': False, 'is_translator': False, 'profile_background_color': '000000', 'profile_background_image_url': 'http://abs.twimg.com/images/themes/theme1/bg.png', 'profile_background_image_url_https': 'https://abs.twimg.com/images/themes/theme1/bg.png', 'profile_background_tile': False, 'profile_link_color': '145A32', 'profile_sidebar_border_color': '000000', 'profile_sidebar_fill_color': '000000', 'profile_text_color': '000000', 'profile_use_background_image': False, 'profile_image_url': 'http://pbs.twimg.com/profile_images/1018521761472708612/KnXYoe1E_normal.jpg', 'profile_image_url_https': 'https://pbs.twimg.com/profile_images/1018521761472708612/KnXYoe1E_normal.jpg', 'profile_banner_url': 'https://pbs.twimg.com/profile_banners/918110121674313728/1522274853', 'default_profile': False, 'default_profile_image': False, 'following': None, 'follow_request_sent': None, 'notifications': None}, 'geo': None, 'coordinates': None, 'place': None, 'contributors': None, 'is_quote_status': False, 'extended_tweet': {'full_text': 'life pro tip: if you feel like you have to be a watered down or less intense version of yourself when being around someone - they do not deserve you.', 'display_text_range': [0, 149], 'entities': {'hashtags': [], 'urls': [], 'user_mentions': [], 'symbols': []}}, 'quote_count': 386, 'reply_count': 23, 'retweet_count': 9987, 'favorite_count': 30108, 'entities': {'hashtags': [], 'urls': [{'url': 'https://t.co/KNJmsLfnU0', 'expanded_url': 'https://twitter.com/i/web/status/1021025998576513024', 'display_url': 'twitter.com/i/web/status/1…', 'indices': [116, 139]}], 'user_mentions': [], 'symbols': []}, 'favorited': False, 'retweeted': False, 'filter_level': 'low', 'lang': 'en'}, 'quoted_status_permalink': {'url': 'https://t.co/FroDNUFg5X', 'expanded': 'https://twitter.com/ahimsax/status/1021025998576513024', 'display': 'twitter.com/ahimsax/status…'}, 'is_quote_status': True, 'quote_count': 0, 'reply_count': 0, 'retweet_count': 0, 'favorite_count': 0, 'entities': {'hashtags': [], 'urls': [{'url': 'https://t.co/FroDNUFg5X', 'expanded_url': 'https://twitter.com/ahimsax/status/1021025998576513024', 'display_url': 'twitter.com/ahimsax/status…', 'indices': [18, 41]}], 'user_mentions': [], 'symbols': []}, 'favorited': False, 'retweeted': False, 'possibly_sensitive': False, 'filter_level': 'low', 'lang': 'en', 'timestamp_ms': '1532398195762'}, {'created_at': 'Tue Jul 24 02:09:56 +0000 2018', 'id': 1021578194434940928, 'id_str': '1021578194434940928', 'text': '@Princess_Janie_ @Oregon97415  https://t.co/z0cMnAZ96Q', 'display_text_range': [30, 30], 'source': '<a href=\"http://twitter.com\" rel=\"nofollow\">Twitter Web Client</a>', 'truncated': False, 'in_reply_to_status_id': 1020713096015491074, 'in_reply_to_status_id_str': '1020713096015491074', 'in_reply_to_user_id': 936986281917276160, 'in_reply_to_user_id_str': '936986281917276160', 'in_reply_to_screen_name': 'Princess_Janie_', 'user': {'id': 756026497438146561, 'id_str': '756026497438146561', 'name': 'Slightly Funny', 'screen_name': 'rene_smoller', 'location': None, 'url': None, 'description': 'Born with the moon rising under the House of Pancakes. Retired HS teacher. Graphic Designer, Theater director, Writer. No lists 🏳️\\u200d🌈#theResistance #FBR', 'translator_type': 'none', 'protected': False, 'verified': False, 'followers_count': 4642, 'friends_count': 4370, 'listed_count': 10, 'favourites_count': 16964, 'statuses_count': 13741, 'created_at': 'Thu Jul 21 07:22:18 +0000 2016', 'utc_offset': None, 'time_zone': None, 'geo_enabled': True, 'lang': 'en', 'contributors_enabled': False, 'is_translator': False, 'profile_background_color': '000000', 'profile_background_image_url': 'http://abs.twimg.com/images/themes/theme1/bg.png', 'profile_background_image_url_https': 'https://abs.twimg.com/images/themes/theme1/bg.png', 'profile_background_tile': False, 'profile_link_color': '981CEB', 'profile_sidebar_border_color': '000000', 'profile_sidebar_fill_color': '000000', 'profile_text_color': '000000', 'profile_use_background_image': False, 'profile_image_url': 'http://pbs.twimg.com/profile_images/877664630386176000/lIVRD4OD_normal.jpg', 'profile_image_url_https': 'https://pbs.twimg.com/profile_images/877664630386176000/lIVRD4OD_normal.jpg', 'profile_banner_url': 'https://pbs.twimg.com/profile_banners/756026497438146561/1490160066', 'default_profile': False, 'default_profile_image': False, 'following': None, 'follow_request_sent': None, 'notifications': None}, 'geo': None, 'coordinates': None, 'place': {'id': '3b77caf94bfc81fe', 'url': 'https://api.twitter.com/1.1/geo/id/3b77caf94bfc81fe.json', 'place_type': 'city', 'name': 'Los Angeles', 'full_name': 'Los Angeles, CA', 'country_code': 'US', 'country': 'United States', 'bounding_box': {'type': 'Polygon', 'coordinates': [[[-118.668404, 33.704538], [-118.668404, 34.337041], [-118.155409, 34.337041], [-118.155409, 33.704538]]]}, 'attributes': {}}, 'contributors': None, 'is_quote_status': False, 'quote_count': 0, 'reply_count': 0, 'retweet_count': 0, 'favorite_count': 0, 'entities': {'hashtags': [], 'urls': [], 'user_mentions': [{'screen_name': 'Princess_Janie_', 'name': 'Nasty_Girl_', 'id': 936986281917276160, 'id_str': '936986281917276160', 'indices': [0, 16]}, {'screen_name': 'Oregon97415', 'name': 'rob____1🌮🌮🌊🌊🌊🦀🐱🐟❄️🦆👩🏿🕺🏻👶🏽', 'id': 780146808882290689, 'id_str': '780146808882290689', 'indices': [17, 29]}], 'symbols': [], 'media': [{'id': 1021578178718912512, 'id_str': '1021578178718912512', 'indices': [31, 54], 'media_url': 'http://pbs.twimg.com/media/Di1f8OTU0AACZ7L.jpg', 'media_url_https': 'https://pbs.twimg.com/media/Di1f8OTU0AACZ7L.jpg', 'url': 'https://t.co/z0cMnAZ96Q', 'display_url': 'pic.twitter.com/z0cMnAZ96Q', 'expanded_url': 'https://twitter.com/rene_smoller/status/1021578194434940928/photo/1', 'type': 'photo', 'sizes': {'thumb': {'w': 150, 'h': 150, 'resize': 'crop'}, 'large': {'w': 720, 'h': 576, 'resize': 'fit'}, 'medium': {'w': 720, 'h': 576, 'resize': 'fit'}, 'small': {'w': 680, 'h': 544, 'resize': 'fit'}}}]}, 'extended_entities': {'media': [{'id': 1021578178718912512, 'id_str': '1021578178718912512', 'indices': [31, 54], 'media_url': 'http://pbs.twimg.com/media/Di1f8OTU0AACZ7L.jpg', 'media_url_https': 'https://pbs.twimg.com/media/Di1f8OTU0AACZ7L.jpg', 'url': 'https://t.co/z0cMnAZ96Q', 'display_url': 'pic.twitter.com/z0cMnAZ96Q', 'expanded_url': 'https://twitter.com/rene_smoller/status/1021578194434940928/photo/1', 'type': 'photo', 'sizes': {'thumb': {'w': 150, 'h': 150, 'resize': 'crop'}, 'large': {'w': 720, 'h': 576, 'resize': 'fit'}, 'medium': {'w': 720, 'h': 576, 'resize': 'fit'}, 'small': {'w': 680, 'h': 544, 'resize': 'fit'}}}]}, 'favorited': False, 'retweeted': False, 'possibly_sensitive': False, 'filter_level': 'low', 'lang': 'und', 'timestamp_ms': '1532398196215'}, {'created_at': 'Tue Jul 24 02:09:58 +0000 2018', 'id': 1021578203360444417, 'id_str': '1021578203360444417', 'text': '양승태대법원장 시절 상고법원 로비를 위해 법관인 저의 친척들까지 동원했다고 합니다. 김명수대법원장이 전임자를 잡기위해 내부보고서를 까발리고도 부끄러운 줄 모르는군요. 그런데 저는 사촌매형들로부터 (cont)… https://t.co/N9h62qKsO6', 'source': '<a href=\"http://twitter.com\" rel=\"nofollow\">Twitter Web Client</a>', 'truncated': True, 'in_reply_to_status_id': None, 'in_reply_to_status_id_str': None, 'in_reply_to_user_id': None, 'in_reply_to_user_id_str': None, 'in_reply_to_screen_name': None, 'user': {'id': 305774740, 'id_str': '305774740', 'name': '나라지키고', 'screen_name': 'chongjuhigh', 'location': 'Los Angeles, California', 'url': None, 'description': '한국(고국) 의 공산화를 걱정하는사람.6.25 를 직접목격한 사람.한국에서 법과졸업.중위제대.음악교사. 빈손으로 와서 미국생활55년차됨.80대트윗왕초보생.철모르는 젊은이들에게 죽기전에전해주어야할진실들을 전해주고싶다', 'translator_type': 'none', 'protected': False, 'verified': False, 'followers_count': 25036, 'friends_count': 26030, 'listed_count': 89, 'favourites_count': 54, 'statuses_count': 348916, 'created_at': 'Thu May 26 19:37:22 +0000 2011', 'utc_offset': None, 'time_zone': None, 'geo_enabled': True, 'lang': 'ko', 'contributors_enabled': False, 'is_translator': False, 'profile_background_color': 'ACDED6', 'profile_background_image_url': 'http://abs.twimg.com/images/themes/theme18/bg.gif', 'profile_background_image_url_https': 'https://abs.twimg.com/images/themes/theme18/bg.gif', 'profile_background_tile': False, 'profile_link_color': '038543', 'profile_sidebar_border_color': 'EEEEEE', 'profile_sidebar_fill_color': 'F6F6F6', 'profile_text_color': '333333', 'profile_use_background_image': True, 'profile_image_url': 'http://pbs.twimg.com/profile_images/1646031536/300namanddanceweb_normal.jpg', 'profile_image_url_https': 'https://pbs.twimg.com/profile_images/1646031536/300namanddanceweb_normal.jpg', 'profile_banner_url': 'https://pbs.twimg.com/profile_banners/305774740/1375320405', 'default_profile': False, 'default_profile_image': False, 'following': None, 'follow_request_sent': None, 'notifications': None}, 'geo': None, 'coordinates': None, 'place': {'id': '3b77caf94bfc81fe', 'url': 'https://api.twitter.com/1.1/geo/id/3b77caf94bfc81fe.json', 'place_type': 'city', 'name': 'Los Angeles', 'full_name': 'Los Angeles, CA', 'country_code': 'US', 'country': 'United States', 'bounding_box': {'type': 'Polygon', 'coordinates': [[[-118.668404, 33.704538], [-118.668404, 34.337041], [-118.155409, 34.337041], [-118.155409, 33.704538]]]}, 'attributes': {}}, 'contributors': None, 'is_quote_status': False, 'extended_tweet': {'full_text': '양승태대법원장 시절 상고법원 로비를 위해 법관인 저의 친척들까지 동원했다고 합니다. 김명수대법원장이 전임자를 잡기위해 내부보고서를 까발리고도 부끄러운 줄 모르는군요. 그런데 저는 사촌매형들로부터 (cont) https://t.co/hme27tEKTa(김진태)', 'display_text_range': [0, 144], 'entities': {'hashtags': [], 'urls': [{'url': 'https://t.co/hme27tEKTa', 'expanded_url': 'http://tl.gd/n_1sqjlbo', 'display_url': 'tl.gd/n_1sqjlbo', 'indices': [116, 139]}], 'user_mentions': [], 'symbols': []}}, 'quote_count': 0, 'reply_count': 0, 'retweet_count': 0, 'favorite_count': 0, 'entities': {'hashtags': [], 'urls': [{'url': 'https://t.co/N9h62qKsO6', 'expanded_url': 'https://twitter.com/i/web/status/1021578203360444417', 'display_url': 'twitter.com/i/web/status/1…', 'indices': [117, 140]}], 'user_mentions': [], 'symbols': []}, 'favorited': False, 'retweeted': False, 'possibly_sensitive': False, 'filter_level': 'low', 'lang': 'ko', 'timestamp_ms': '1532398198343'}, {'created_at': 'Tue Jul 24 02:09:59 +0000 2018', 'id': 1021578208829825025, 'id_str': '1021578208829825025', 'text': '@jay_riddle @RobUsry https://t.co/fyI70aNeX1 @lafc32', 'display_text_range': [21, 52], 'source': '<a href=\"http://twitter.com/download/iphone\" rel=\"nofollow\">Twitter for iPhone</a>', 'truncated': False, 'in_reply_to_status_id': 1021577354546688001, 'in_reply_to_status_id_str': '1021577354546688001', 'in_reply_to_user_id': 82252068, 'in_reply_to_user_id_str': '82252068', 'in_reply_to_screen_name': 'jay_riddle', 'user': {'id': 3192697003, 'id_str': '3192697003', 'name': 'LAFC Rich', 'screen_name': 'LAFCrich', 'location': 'Los Angeles, CA', 'url': 'http://www.LAFC.com', 'description': 'Street by Street, Block by Block, One by One. ✊🥁 Join us. @LAFC', 'translator_type': 'none', 'protected': False, 'verified': False, 'followers_count': 1280, 'friends_count': 1441, 'listed_count': 20, 'favourites_count': 7140, 'statuses_count': 4334, 'created_at': 'Tue May 12 01:16:55 +0000 2015', 'utc_offset': None, 'time_zone': None, 'geo_enabled': True, 'lang': 'en', 'contributors_enabled': False, 'is_translator': False, 'profile_background_color': 'C0DEED', 'profile_background_image_url': 'http://abs.twimg.com/images/themes/theme1/bg.png', 'profile_background_image_url_https': 'https://abs.twimg.com/images/themes/theme1/bg.png', 'profile_background_tile': False, 'profile_link_color': '1DA1F2', 'profile_sidebar_border_color': 'C0DEED', 'profile_sidebar_fill_color': 'DDEEF6', 'profile_text_color': '333333', 'profile_use_background_image': True, 'profile_image_url': 'http://pbs.twimg.com/profile_images/644785846525165568/iUAMVNoR_normal.jpg', 'profile_image_url_https': 'https://pbs.twimg.com/profile_images/644785846525165568/iUAMVNoR_normal.jpg', 'profile_banner_url': 'https://pbs.twimg.com/profile_banners/3192697003/1512927296', 'default_profile': True, 'default_profile_image': False, 'following': None, 'follow_request_sent': None, 'notifications': None}, 'geo': None, 'coordinates': None, 'place': {'id': '3b77caf94bfc81fe', 'url': 'https://api.twitter.com/1.1/geo/id/3b77caf94bfc81fe.json', 'place_type': 'city', 'name': 'Los Angeles', 'full_name': 'Los Angeles, CA', 'country_code': 'US', 'country': 'United States', 'bounding_box': {'type': 'Polygon', 'coordinates': [[[-118.668404, 33.704538], [-118.668404, 34.337041], [-118.155409, 34.337041], [-118.155409, 33.704538]]]}, 'attributes': {}}, 'contributors': None, 'is_quote_status': False, 'quote_count': 0, 'reply_count': 0, 'retweet_count': 0, 'favorite_count': 0, 'entities': {'hashtags': [], 'urls': [{'url': 'https://t.co/fyI70aNeX1', 'expanded_url': 'https://botcheck.me/', 'display_url': 'botcheck.me', 'indices': [21, 44]}], 'user_mentions': [{'screen_name': 'jay_riddle', 'name': 'Jay W. Riddle (Typo Enthusiast)', 'id': 82252068, 'id_str': '82252068', 'indices': [0, 11]}, {'screen_name': 'RobUsry', 'name': 'Rob Usry', 'id': 26355634, 'id_str': '26355634', 'indices': [12, 20]}], 'symbols': []}, 'favorited': False, 'retweeted': False, 'possibly_sensitive': False, 'filter_level': 'low', 'lang': 'und', 'timestamp_ms': '1532398199647'}, {'created_at': 'Tue Jul 24 02:09:59 +0000 2018', 'id': 1021578209702293504, 'id_str': '1021578209702293504', 'text': '@HoopPlusTheHarm yeahhhhhhhh', 'display_text_range': [17, 28], 'source': '<a href=\"http://twitter.com/download/iphone\" rel=\"nofollow\">Twitter for iPhone</a>', 'truncated': False, 'in_reply_to_status_id': 1021578144266899456, 'in_reply_to_status_id_str': '1021578144266899456', 'in_reply_to_user_id': 40156145, 'in_reply_to_user_id_str': '40156145', 'in_reply_to_screen_name': 'HoopPlusTheHarm', 'user': {'id': 453512494, 'id_str': '453512494', 'name': 'Nitz', 'screen_name': 'nitzbluv', 'location': 'LA | NYC | The Bay | TLV', 'url': 'https://www.instagram.com/nitznatzb/', 'description': 'I tweet about basketball for me, myself, & fun people. Also plenty of other things. Do events & digital stuff. Also plenty of other things. Pronounced *knits*.', 'translator_type': 'none', 'protected': False, 'verified': False, 'followers_count': 6637, 'friends_count': 1017, 'listed_count': 119, 'favourites_count': 39537, 'statuses_count': 62801, 'created_at': 'Tue Jan 03 00:39:03 +0000 2012', 'utc_offset': None, 'time_zone': None, 'geo_enabled': True, 'lang': 'en', 'contributors_enabled': False, 'is_translator': False, 'profile_background_color': '000000', 'profile_background_image_url': 'http://abs.twimg.com/images/themes/theme1/bg.png', 'profile_background_image_url_https': 'https://abs.twimg.com/images/themes/theme1/bg.png', 'profile_background_tile': False, 'profile_link_color': 'FAB81E', 'profile_sidebar_border_color': '000000', 'profile_sidebar_fill_color': '000000', 'profile_text_color': '000000', 'profile_use_background_image': False, 'profile_image_url': 'http://pbs.twimg.com/profile_images/1021105168429879296/pI7OdINq_normal.jpg', 'profile_image_url_https': 'https://pbs.twimg.com/profile_images/1021105168429879296/pI7OdINq_normal.jpg', 'profile_banner_url': 'https://pbs.twimg.com/profile_banners/453512494/1521407391', 'default_profile': False, 'default_profile_image': False, 'following': None, 'follow_request_sent': None, 'notifications': None}, 'geo': None, 'coordinates': None, 'place': {'id': '3b77caf94bfc81fe', 'url': 'https://api.twitter.com/1.1/geo/id/3b77caf94bfc81fe.json', 'place_type': 'city', 'name': 'Los Angeles', 'full_name': 'Los Angeles, CA', 'country_code': 'US', 'country': 'United States', 'bounding_box': {'type': 'Polygon', 'coordinates': [[[-118.668404, 33.704538], [-118.668404, 34.337041], [-118.155409, 34.337041], [-118.155409, 33.704538]]]}, 'attributes': {}}, 'contributors': None, 'is_quote_status': False, 'quote_count': 0, 'reply_count': 0, 'retweet_count': 0, 'favorite_count': 0, 'entities': {'hashtags': [], 'urls': [], 'user_mentions': [{'screen_name': 'HoopPlusTheHarm', 'name': 'josh', 'id': 40156145, 'id_str': '40156145', 'indices': [0, 16]}], 'symbols': []}, 'favorited': False, 'retweeted': False, 'filter_level': 'low', 'lang': 'en', 'timestamp_ms': '1532398199855'}, {'created_at': 'Tue Jul 24 02:10:01 +0000 2018', 'id': 1021578214785744896, 'id_str': '1021578214785744896', 'text': 'Everywhere I go, I see the same hoeeee', 'source': '<a href=\"http://twitter.com/download/iphone\" rel=\"nofollow\">Twitter for iPhone</a>', 'truncated': False, 'in_reply_to_status_id': None, 'in_reply_to_status_id_str': None, 'in_reply_to_user_id': None, 'in_reply_to_user_id_str': None, 'in_reply_to_screen_name': None, 'user': {'id': 633105861, 'id_str': '633105861', 'name': 'Val', 'screen_name': 'weedqueenvee', 'location': \"Killa' Cali!\", 'url': None, 'description': 'NSALA ✨818', 'translator_type': 'none', 'protected': False, 'verified': False, 'followers_count': 899, 'friends_count': 733, 'listed_count': 6, 'favourites_count': 81468, 'statuses_count': 34417, 'created_at': 'Wed Jul 11 16:25:08 +0000 2012', 'utc_offset': None, 'time_zone': None, 'geo_enabled': True, 'lang': 'en', 'contributors_enabled': False, 'is_translator': False, 'profile_background_color': 'ACDED6', 'profile_background_image_url': 'http://abs.twimg.com/images/themes/theme18/bg.gif', 'profile_background_image_url_https': 'https://abs.twimg.com/images/themes/theme18/bg.gif', 'profile_background_tile': False, 'profile_link_color': '038543', 'profile_sidebar_border_color': 'EEEEEE', 'profile_sidebar_fill_color': 'F6F6F6', 'profile_text_color': '333333', 'profile_use_background_image': True, 'profile_image_url': 'http://pbs.twimg.com/profile_images/939608750410702848/PoOAcSmG_normal.jpg', 'profile_image_url_https': 'https://pbs.twimg.com/profile_images/939608750410702848/PoOAcSmG_normal.jpg', 'profile_banner_url': 'https://pbs.twimg.com/profile_banners/633105861/1512863464', 'default_profile': False, 'default_profile_image': False, 'following': None, 'follow_request_sent': None, 'notifications': None}, 'geo': None, 'coordinates': None, 'place': {'id': '3b77caf94bfc81fe', 'url': 'https://api.twitter.com/1.1/geo/id/3b77caf94bfc81fe.json', 'place_type': 'city', 'name': 'Los Angeles', 'full_name': 'Los Angeles, CA', 'country_code': 'US', 'country': 'United States', 'bounding_box': {'type': 'Polygon', 'coordinates': [[[-118.668404, 33.704538], [-118.668404, 34.337041], [-118.155409, 34.337041], [-118.155409, 33.704538]]]}, 'attributes': {}}, 'contributors': None, 'is_quote_status': False, 'quote_count': 0, 'reply_count': 0, 'retweet_count': 0, 'favorite_count': 0, 'entities': {'hashtags': [], 'urls': [], 'user_mentions': [], 'symbols': []}, 'favorited': False, 'retweeted': False, 'filter_level': 'low', 'lang': 'en', 'timestamp_ms': '1532398201067'}, {'created_at': 'Tue Jul 24 02:10:01 +0000 2018', 'id': 1021578218652880896, 'id_str': '1021578218652880896', 'text': '한국언론은 북한 로동신문 자매지 언론자유가 없는 북한신문/ 방송은 김정은 선전매체에지나지않지만 한국의 언론들은 이것을 되받아 대서특필한다.. 북한에서 흘러나오는 반김정은 뉴스가 봇물을 이루는데 한국의 언론은… https://t.co/cPOQ1iINb5', 'source': '<a href=\"http://twitter.com\" rel=\"nofollow\">Twitter Web Client</a>', 'truncated': True, 'in_reply_to_status_id': None, 'in_reply_to_status_id_str': None, 'in_reply_to_user_id': None, 'in_reply_to_user_id_str': None, 'in_reply_to_screen_name': None, 'user': {'id': 305774740, 'id_str': '305774740', 'name': '나라지키고', 'screen_name': 'chongjuhigh', 'location': 'Los Angeles, California', 'url': None, 'description': '한국(고국) 의 공산화를 걱정하는사람.6.25 를 직접목격한 사람.한국에서 법과졸업.중위제대.음악교사. 빈손으로 와서 미국생활55년차됨.80대트윗왕초보생.철모르는 젊은이들에게 죽기전에전해주어야할진실들을 전해주고싶다', 'translator_type': 'none', 'protected': False, 'verified': False, 'followers_count': 25036, 'friends_count': 26030, 'listed_count': 89, 'favourites_count': 54, 'statuses_count': 348917, 'created_at': 'Thu May 26 19:37:22 +0000 2011', 'utc_offset': None, 'time_zone': None, 'geo_enabled': True, 'lang': 'ko', 'contributors_enabled': False, 'is_translator': False, 'profile_background_color': 'ACDED6', 'profile_background_image_url': 'http://abs.twimg.com/images/themes/theme18/bg.gif', 'profile_background_image_url_https': 'https://abs.twimg.com/images/themes/theme18/bg.gif', 'profile_background_tile': False, 'profile_link_color': '038543', 'profile_sidebar_border_color': 'EEEEEE', 'profile_sidebar_fill_color': 'F6F6F6', 'profile_text_color': '333333', 'profile_use_background_image': True, 'profile_image_url': 'http://pbs.twimg.com/profile_images/1646031536/300namanddanceweb_normal.jpg', 'profile_image_url_https': 'https://pbs.twimg.com/profile_images/1646031536/300namanddanceweb_normal.jpg', 'profile_banner_url': 'https://pbs.twimg.com/profile_banners/305774740/1375320405', 'default_profile': False, 'default_profile_image': False, 'following': None, 'follow_request_sent': None, 'notifications': None}, 'geo': None, 'coordinates': None, 'place': {'id': '3b77caf94bfc81fe', 'url': 'https://api.twitter.com/1.1/geo/id/3b77caf94bfc81fe.json', 'place_type': 'city', 'name': 'Los Angeles', 'full_name': 'Los Angeles, CA', 'country_code': 'US', 'country': 'United States', 'bounding_box': {'type': 'Polygon', 'coordinates': [[[-118.668404, 33.704538], [-118.668404, 34.337041], [-118.155409, 34.337041], [-118.155409, 33.704538]]]}, 'attributes': {}}, 'contributors': None, 'is_quote_status': False, 'extended_tweet': {'full_text': '한국언론은 북한 로동신문 자매지 언론자유가 없는 북한신문/ 방송은 김정은 선전매체에지나지않지만 한국의 언론들은 이것을 되받아 대서특필한다.. 북한에서 흘러나오는 반김정은 뉴스가 봇물을 이루는데 한국의 언론은 김정은과 문재인이 무서워 자물통을 채웠다. 한국언론은 죽었다(유심)', 'display_text_range': [0, 153], 'entities': {'hashtags': [], 'urls': [], 'user_mentions': [], 'symbols': []}}, 'quote_count': 0, 'reply_count': 0, 'retweet_count': 0, 'favorite_count': 0, 'entities': {'hashtags': [], 'urls': [{'url': 'https://t.co/cPOQ1iINb5', 'expanded_url': 'https://twitter.com/i/web/status/1021578218652880896', 'display_url': 'twitter.com/i/web/status/1…', 'indices': [117, 140]}], 'user_mentions': [], 'symbols': []}, 'favorited': False, 'retweeted': False, 'filter_level': 'low', 'lang': 'ko', 'timestamp_ms': '1532398201989'}, {'created_at': 'Tue Jul 24 02:10:03 +0000 2018', 'id': 1021578223304564739, 'id_str': '1021578223304564739', 'text': '@grimhiIde I feel like you’ve said this before', 'display_text_range': [11, 46], 'source': '<a href=\"http://twitter.com/download/iphone\" rel=\"nofollow\">Twitter for iPhone</a>', 'truncated': False, 'in_reply_to_status_id': 1021498948010303489, 'in_reply_to_status_id_str': '1021498948010303489', 'in_reply_to_user_id': 283036840, 'in_reply_to_user_id_str': '283036840', 'in_reply_to_screen_name': 'grimhiIde', 'user': {'id': 101956535, 'id_str': '101956535', 'name': 'ᴳᴸᴱᴺᴰᴬ', 'screen_name': 'frameofbones', 'location': 'South LA', 'url': None, 'description': 'Liebe ist für alle da - auch für mich', 'translator_type': 'none', 'protected': False, 'verified': False, 'followers_count': 831, 'friends_count': 277, 'listed_count': 19, 'favourites_count': 30445, 'statuses_count': 97816, 'created_at': 'Tue Jan 05 04:29:32 +0000 2010', 'utc_offset': None, 'time_zone': None, 'geo_enabled': True, 'lang': 'en', 'contributors_enabled': False, 'is_translator': False, 'profile_background_color': '1A1B1F', 'profile_background_image_url': 'http://abs.twimg.com/images/themes/theme9/bg.gif', 'profile_background_image_url_https': 'https://abs.twimg.com/images/themes/theme9/bg.gif', 'profile_background_tile': False, 'profile_link_color': '1A1B1F', 'profile_sidebar_border_color': 'FFFFFF', 'profile_sidebar_fill_color': '252429', 'profile_text_color': '666666', 'profile_use_background_image': True, 'profile_image_url': 'http://pbs.twimg.com/profile_images/1020716805004783616/qCbe219i_normal.jpg', 'profile_image_url_https': 'https://pbs.twimg.com/profile_images/1020716805004783616/qCbe219i_normal.jpg', 'profile_banner_url': 'https://pbs.twimg.com/profile_banners/101956535/1529340669', 'default_profile': False, 'default_profile_image': False, 'following': None, 'follow_request_sent': None, 'notifications': None}, 'geo': None, 'coordinates': None, 'place': {'id': '3b77caf94bfc81fe', 'url': 'https://api.twitter.com/1.1/geo/id/3b77caf94bfc81fe.json', 'place_type': 'city', 'name': 'Los Angeles', 'full_name': 'Los Angeles, CA', 'country_code': 'US', 'country': 'United States', 'bounding_box': {'type': 'Polygon', 'coordinates': [[[-118.668404, 33.704538], [-118.668404, 34.337041], [-118.155409, 34.337041], [-118.155409, 33.704538]]]}, 'attributes': {}}, 'contributors': None, 'is_quote_status': False, 'quote_count': 0, 'reply_count': 0, 'retweet_count': 0, 'favorite_count': 0, 'entities': {'hashtags': [], 'urls': [], 'user_mentions': [{'screen_name': 'grimhiIde', 'name': 'riku’s replica on a bad day', 'id': 283036840, 'id_str': '283036840', 'indices': [0, 10]}], 'symbols': []}, 'favorited': False, 'retweeted': False, 'filter_level': 'low', 'lang': 'en', 'timestamp_ms': '1532398203098'}]\n"
     ]
    }
   ],
   "source": [
    "print(tweets)"
   ]
  },
  {
   "cell_type": "code",
   "execution_count": 7,
   "metadata": {},
   "outputs": [],
   "source": [
    "import json"
   ]
  },
  {
   "cell_type": "code",
   "execution_count": 8,
   "metadata": {},
   "outputs": [],
   "source": [
    "from lib import create_timestamped_filename"
   ]
  },
  {
   "cell_type": "code",
   "execution_count": 10,
   "metadata": {},
   "outputs": [],
   "source": [
    "username = 'yan'\n",
    "filename = create_timestamped_filename(username)"
   ]
  },
  {
   "cell_type": "code",
   "execution_count": 11,
   "metadata": {},
   "outputs": [],
   "source": [
    "with open(filename, 'w') as outfile:\n",
    "    json.dump(tweets, outfile)"
   ]
  },
  {
   "cell_type": "code",
   "execution_count": 12,
   "metadata": {},
   "outputs": [],
   "source": [
    "from lib import create_boto_client"
   ]
  },
  {
   "cell_type": "code",
   "execution_count": 13,
   "metadata": {},
   "outputs": [],
   "source": [
    "s3_client = create_boto_client()"
   ]
  },
  {
   "cell_type": "code",
   "execution_count": 14,
   "metadata": {},
   "outputs": [],
   "source": [
    "from lib import write_file_to_S3"
   ]
  },
  {
   "cell_type": "code",
   "execution_count": 15,
   "metadata": {},
   "outputs": [],
   "source": [
    "filename = 'tweets-yan-2018-07-24_02-11-42-466065.json'\n",
    "S3_BUCKET = 'uclax-data-science'\n",
    "write_file_to_S3(s3_client, filename, S3_BUCKET)"
   ]
  },
  {
   "cell_type": "code",
   "execution_count": 22,
   "metadata": {},
   "outputs": [
    {
     "data": {
      "text/plain": [
       "['data.json',\n",
       " 'tweets-dennissibo-2018-07-24_02-12-06-781711.json',\n",
       " 'tweets-joshua-2018-07-21_14-09-23-363540.json',\n",
       " 'tweets-joshua-2018-07-23_11-22-20-369005.json',\n",
       " 'tweets-joshua-2018-07-23_11-59-41-971097.json',\n",
       " 'tweets-nina-2018-07-24_02-16-10-999671.json',\n",
       " 'tweets-stanley-2018-07-24_02-04-13-008476.json',\n",
       " 'tweets-stanley-2018-07-24_02-22-16-555638.json',\n",
       " 'tweets-yan-2018-07-24_02-11-42-466065.json']"
      ]
     },
     "execution_count": 22,
     "metadata": {},
     "output_type": "execute_result"
    }
   ],
   "source": [
    "from lib import list_files_in_S3_bucket\n",
    "S3_BUCKET = 'uclax-data-science'\n",
    "list_files_in_S3_bucket(s3_client, S3_BUCKET)"
   ]
  },
  {
   "cell_type": "code",
   "execution_count": 31,
   "metadata": {},
   "outputs": [],
   "source": [
    "from lib import read_object_from_S3\n",
    "S3_BUCKET = 'uclax-data-science' \n",
    "tweets_from_s3 = read_object_from_S3(s3_client, 'tweets-yan-2018-07-24_02-11-42-466065.json', S3_BUCKET)"
   ]
  },
  {
   "cell_type": "code",
   "execution_count": 32,
   "metadata": {},
   "outputs": [
    {
     "name": "stdout",
     "output_type": "stream",
     "text": [
      "Requirement already satisfied: pymongo in /opt/conda/lib/python3.6/site-packages (3.7.1)\r\n"
     ]
    }
   ],
   "source": [
    "!pip install pymongo"
   ]
  },
  {
   "cell_type": "code",
   "execution_count": 35,
   "metadata": {},
   "outputs": [
    {
     "data": {
      "text/plain": [
       "<pymongo.results.InsertOneResult at 0x7f95643713c8>"
      ]
     },
     "execution_count": 35,
     "metadata": {},
     "output_type": "execute_result"
    }
   ],
   "source": [
    "from lib import create_mongo_client_to_database_collection\n",
    "collection_client = create_mongo_client_to_database_collection('twitter', 'tweets')\n",
    "collection_client.insert_one(next(tweet_iterator))"
   ]
  }
 ],
 "metadata": {
  "kernelspec": {
   "display_name": "Python 3",
   "language": "python",
   "name": "python3"
  },
  "language_info": {
   "codemirror_mode": {
    "name": "ipython",
    "version": 3
   },
   "file_extension": ".py",
   "mimetype": "text/x-python",
   "name": "python",
   "nbconvert_exporter": "python",
   "pygments_lexer": "ipython3",
   "version": "3.6.5"
  }
 },
 "nbformat": 4,
 "nbformat_minor": 2
}
